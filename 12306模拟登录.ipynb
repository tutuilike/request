{
 "cells": [
  {
   "cell_type": "markdown",
   "metadata": {},
   "source": [
    "### 12306模拟登录\n",
    "- url:https://kyfw.12306.cn/otn/login/init\n",
    "- 分析：主要是对验证码的处理\n",
    "    - 基于selenium实现。\n",
    "    - 需要使用selenium将登录页面打开\n",
    "    - 我们即将实现的模拟登录页面和验证码图片一定是一一匹配\n",
    "        - 验证码每次请求都会发生变化\n",
    "    - 如何保证我们捕获的验证码和当次登录是一一匹配？\n",
    "        - 将当前selenium打开的登录页面中的验证码图片裁剪下来即可。"
   ]
  },
  {
   "cell_type": "code",
   "execution_count": 7,
   "metadata": {},
   "outputs": [],
   "source": [
    "#!/usr/bin/env python\n",
    "# coding:utf-8\n",
    "\n",
    "import requests\n",
    "from hashlib import md5\n",
    "\n",
    "class Chaojiying_Client(object):\n",
    "\n",
    "    def __init__(self, username, password, soft_id):\n",
    "        self.username = username\n",
    "        password =  password.encode('utf8')\n",
    "        self.password = md5(password).hexdigest()\n",
    "        self.soft_id = soft_id\n",
    "        self.base_params = {\n",
    "            'user': self.username,\n",
    "            'pass2': self.password,\n",
    "            'softid': self.soft_id,\n",
    "        }\n",
    "        self.headers = {\n",
    "            'Connection': 'Keep-Alive',\n",
    "            'User-Agent': 'Mozilla/4.0 (compatible; MSIE 8.0; Windows NT 5.1; Trident/4.0)',\n",
    "        }\n",
    "\n",
    "    def PostPic(self, im, codetype):\n",
    "        \"\"\"\n",
    "        im: 图片字节\n",
    "        codetype: 题目类型 参考 http://www.chaojiying.com/price.html\n",
    "        \"\"\"\n",
    "        params = {\n",
    "            'codetype': codetype,\n",
    "        }\n",
    "        params.update(self.base_params)\n",
    "        files = {'userfile': ('ccc.jpg', im)}\n",
    "        r = requests.post('http://upload.chaojiying.net/Upload/Processing.php', data=params, files=files, headers=self.headers)\n",
    "        return r.json()\n",
    "\n",
    "    def ReportError(self, im_id):\n",
    "        \"\"\"\n",
    "        im_id:报错题目的图片ID\n",
    "        \"\"\"\n",
    "        params = {\n",
    "            'id': im_id,\n",
    "        }\n",
    "        params.update(self.base_params)\n",
    "        r = requests.post('http://upload.chaojiying.net/Upload/ReportError.php', data=params, headers=self.headers)\n",
    "        return r.json()\n"
   ]
  },
  {
   "cell_type": "code",
   "execution_count": 8,
   "metadata": {},
   "outputs": [],
   "source": [
    "def tranformImgCode(imgPath,imgType):\n",
    "    chaojiying = Chaojiying_Client('bobo328410948', 'bobo328410948', '899370')\n",
    "    im = open(imgPath, 'rb').read()\n",
    "    return chaojiying.PostPic(im,imgType)['pic_str']"
   ]
  },
  {
   "cell_type": "code",
   "execution_count": 5,
   "metadata": {},
   "outputs": [],
   "source": [
    "from selenium import webdriver\n",
    "from selenium.webdriver import ActionChains\n",
    "from time import sleep\n",
    "from PIL import Image"
   ]
  },
  {
   "cell_type": "code",
   "execution_count": 14,
   "metadata": {},
   "outputs": [
    {
     "name": "stdout",
     "output_type": "stream",
     "text": [
      "[[194, 66]]\n"
     ]
    }
   ],
   "source": [
    "bro = webdriver.Chrome(executable_path='./chromedriver')\n",
    "bro.get('https://kyfw.12306.cn/otn/login/init')\n",
    "sleep(2)\n",
    "#将当次登录对应的验证码图片进行裁剪\n",
    "bro.save_screenshot('main.png')#当前登录页面对应的完整图片\n",
    "#定位到了验证码图片对应的标签\n",
    "img_tag = bro.find_element_by_xpath('//*[@id=\"loginForm\"]/div/ul[2]/li[4]/div/div/div[3]/img')\n",
    "#裁剪出验证码图片\n",
    "location = img_tag.location#img_tag表示的图片在当前页面中左下角坐标\n",
    "size = img_tag.size #验证码图片的尺寸\n",
    "#基于location和size制定出裁剪的范围\n",
    "rangle = (int(location['x']),int(location['y']),int(location['x']+size['width']),int(location['y']+size['height']))\n",
    "#根据rangle表示的裁剪范围进行图片的裁剪\n",
    "#基于图片进行裁剪：pip install PIL/Pillow\n",
    "i = Image.open('./main.png')\n",
    "frame = i.crop(rangle)\n",
    "frame.save('./code.png')\n",
    "#识别验证码图片\n",
    "#result是返回需要点击的坐标\n",
    "result = tranformImgCode('./code.png',9004)\n",
    "#61,71|118,137==>[[61,71],[118,137]]\n",
    "all_list = []#[[61,71],[118,137]]\n",
    "if '|' in result:\n",
    "    list_1 = result.split('|')\n",
    "    count_1 = len(list_1)\n",
    "    for i in range(count_1):\n",
    "        xy_list = []\n",
    "        x = int(list_1[i].split(',')[0])\n",
    "        y = int(list_1[i].split(',')[1])\n",
    "        xy_list.append(x)\n",
    "        xy_list.append(y)\n",
    "        all_list.append(xy_list)\n",
    "else:\n",
    "    x = int(result.split(',')[0])\n",
    "    y = int(result.split(',')[1])\n",
    "    xy_list = []\n",
    "    xy_list.append(x)\n",
    "    xy_list.append(y)\n",
    "    all_list.append(xy_list)\n",
    "for xy in all_list:\n",
    "    x = xy[0]\n",
    "    y = xy[1]\n",
    "    ActionChains(bro).move_to_element_with_offset(img_tag,x,y).click().perform()\n",
    "    sleep(1)\n",
    "print(all_list)\n",
    "bro.find_element_by_id('username').send_keys('bobo123')\n",
    "sleep(1)\n",
    "bro.find_element_by_id('password').send_keys('123456')\n",
    "sleep(1)\n",
    "bro.find_element_by_id('loginSub').click()\n",
    "sleep(2)\n",
    "bro.quit()\n"
   ]
  },
  {
   "cell_type": "markdown",
   "metadata": {},
   "source": [
    "### 12306余票检测"
   ]
  },
  {
   "cell_type": "code",
   "execution_count": 7,
   "metadata": {},
   "outputs": [],
   "source": [
    "import requests\n",
    "headers = {\n",
    "    'User-Agent':'Mozilla/5.0 (Macintosh; Intel Mac OS X 10_12_6) AppleWebKit/537.36 (KHTML, like Gecko) Chrome/80.0.3987.149 Safari/537.36',\n",
    "    'Cookie':'JSESSIONID=05AF8E6620993EA00398CDA88A8943C1; _jc_save_fromStation=%u5317%u4EAC%2CBJP; _jc_save_wfdc_flag=dc; route=6f50b51faa11b987e576cdb301e545c4; BIGipServerpool_passport=216859146.50215.0000; RAIL_EXPIRATION=1585397728408; RAIL_DEVICEID=L0hoksaLWyviy35wtoXKUFX2b2irWMhRkRERdnf3VnzbEAlEx9IqbGRXEUore8HAmGXlAWxzPZa9Kx0_wdcGB2FSMMNJIEP0uBgRy02wQ_l_vMNjQ-k8ZwSA3T5zkSm5LOfTXTX91VPvYa7CcM6AUAiZpw3SoGMO; BIGipServerotn=4057399562.50210.0000; BIGipServerpassport=854065418.50215.0000; _jc_save_fromDate=2020-03-30; _jc_save_toDate=2020-03-26; _jc_save_toStation=%u4E4C%u9C81%u6728%u9F50%u5357%2CWMR'\n",
    "}\n",
    "city = {\n",
    "        '北京北': 'VAP',\n",
    "        '北京东': 'BOP',\n",
    "        '北京': 'BJP',\n",
    "        '北京南': 'VNP',\n",
    "        '北京西': 'BXP',\n",
    "        '广州南': 'IZQ',\n",
    "        '重庆北': 'CUW',\n",
    "        '重庆': 'CQW',\n",
    "        '重庆南': 'CRW',\n",
    "        '广州东': 'GGQ',\n",
    "        '上海': 'SHH',\n",
    "        '上海南': 'SNH',\n",
    "        '上海虹桥': 'AOH'\n",
    "}"
   ]
  },
  {
   "cell_type": "code",
   "execution_count": 8,
   "metadata": {},
   "outputs": [
    {
     "name": "stdout",
     "output_type": "stream",
     "text": [
      "enter a time:(yyyy-mm-dd):2020-03-28\n",
      "enter a start city:北京\n",
      "enter a end city:重庆\n",
      "h4AuK0a8TH6JcY7%2FBh465yxY1423zWrUh5i0eiMZ3EMbkNZt7AFF5ioQMBBJhBhKZUiuyYyFg%2FQj%0A2sGwOfIGj4FO%2BP3RB8klCE%2BQYxW8qh8Md968%2FqQo46%2BHoAX7d9%2BqwszgtrORN4%2BsC8DMYLRsO433%0AOa%2Be8%2BRdGmqylHGpL0%2FssA6vcCzFEvh6Ypo%2BFLWjGMqF88Oqd8iTbnUW9z4zMJWLfhtuLstwQ2vz%0ArlrvGnFHSB%2BQygieTNmPXowMyQzgDM29CmdoPBGn1SyWbHibh4PzGYyWbjBgpsZ%2FChhTHYpCK683%0App%2BoS2eK1aU%3D|预订|240000K5072K|K507|BXP|GIW|BXP|CXW|07:12|09:35|26:23|Y|jlQxurvTgciGkGiQcPLhPIHldzfN88NqHiBjJn1zWoQE4JtQ9VCw4NmDYVM%3D|20200328|3|PB|01|17|0|0||||18|||无||有|有|||||30401010|3411|0|0|||||||||\n",
      "T%2FhPvUkqlr6bZ2jpCQ48WlSsqaIrT2DqECM%2BSqT64uD%2Fyw99pyrrrPGYMFobhipId4SvsC%2BT%2FHfK%0A6%2Bx6gcZixIF62bPQiiP2vlVwbpJk9BVSXUJ9Op4c192MI41C%2BsqtYXBkKlWBFIJrJqvpUBHGLXTy%0AKkZl2Gx8plIO32VkN%2BLRVps2Sl5abtWwjRmPG3Rww4WNytHDOP3FRbFqFNlL7JnJDT5PAb8wZHQM%0AyYLVE4u3c5iDOeJCjZzI7ezYhYIKarld3NtjE1QW%2FBOFqqZL%2BLXkEul6wSlSlmg%2F7tXhiSq%2B8nK1%0A|预订|240000G3090J|G309|BXP|CUW|BXP|CUW|08:18|20:21|12:03|Y|lbrKm1jpofkhfUfnlfj2ir68c0JCwvtjptuNQq7jrPf3S7On|20200328|3|P4|01|15|1|0|||||||||||有|无|5||O0M090|OM9|0|1|||||||||\n",
      "8LzX0QAODndyJ5mDjdPNcSE9zELwsYtjLhG%2ByBxn4VvsZ%2FgCxd2PdrzVHD6W8yeOoh7D38YOZw%2F4%0ApsOPqGTJyO3Ql%2FxkiGewwoXaqgNcRG4%2Blgh722n%2BS93J3r%2FjXqf3hc5hGCFNXlByKbpD7VeKzZ%2FJ%0Ad0SOY4lP1e3p0Sql2A0iNnbKuWDlI7HR3inBvbiIviqsE5aECEaBfikMdFJJfA2V0idYDt9A3Xzh%0AY67NVUFx9aXF5NF2x%2B0%2F%2BEu0ij7AMmTS3V8EwdlODU56fsKpOTMtryFgkwDRJrwxxWC89lXSBV%2BB%0A|预订|240000G5710Y|G571|BXP|CXW|BXP|CXW|09:22|20:34|11:12|Y|2lW%2BHMycYMbl1XVx%2BUirp8T3km53P2ASMsS%2FPGgcU3l3KNZR|20200328|3|P2|01|19|1|0|||||||||||有|无|5||O0M090|OM9|1|1|||||||||\n",
      "LNug8NdEA9O3evrR77ds13vMs94pHJMXq%2BBamU4yo%2BnjzgWXKwj%2BQokRrRKdFv%2FNDiB2bFf1Byg9%0ACLptggL8ZbeI7k5I3xaXn8GCpV9yQMAT8lIrRSzlv0GFUFsDyPHFW7AlPH9MsnJBOodGbT50VRnm%0AqQAKAWVzLxgGDIe%2BM8ZF17dVayTC7DMjizYRvRjQJarHZubbBiUI3rOurAJV8UALI0ItEgnUkjU4%0Alr5l1gD5veKdRxSkL9pKJKBHTrgSSMwPlqNL2lD5D7%2B2yWLoHYpK3ElxSJOmSzc%2BcPk%2BL%2B7qOkvi%0AfQecSgHCkNE%3D|预订|240000K5891B|K589|BXP|CQW|BXP|CQW|10:30|16:46|30:16|Y|6oGKNOVYQ5zmDXvYmPcQPtI%2B8%2FmPeHmRiCRTMrl1GgYqV2d55Q9CKc2jlvg%3D|20200328|3|PB|01|21|0|0||||无|||无||无|有|||||30104010|3141|0|1|||||||||\n",
      "4WE397kRdN18AVsoDHqfm9P%2FzeatuwNuzy20JeARnNgm9bSoxgyOqEFqfvRGZmZbMDO2E40UWw4n%0AWuWamD4lGYHAZmpikn6Q6D%2BPV3sCS3UgqBugwadv0dBtJM2WVcx4vty%2BTe9zv2uvKtkQ8LS%2FVwMk%0Anwl%2B3FSEyEn%2BFW1L0FqGhqprtAK%2BM1fw3VLPt7%2BCWghoo5Q8fQ62hwxT3vQ%2BuBqeHLcOc%2Bv5CAF0%0APmjNuzpRAAVYsuyN0537Iz0I3FVf7ME2S9XqGCkzJ%2FPDc5CSrGEfki2XCqCYIuPr%2B78WrEmiPM3a%0AMaKUo9vtgVM%3D|预订|2400000Z490J|Z49|BXP|CDW|BXP|CUW|11:28|05:56|18:28|Y|BBJlRx8vTVrzL0gpfFQSdN8X0gM7AGr5h8D3mPJr0kMZWAJq0Gy02bNR1Cw%3D|20200328|3|P4|01|08|0|0||||有|||无||有|有|||||10403010|1431|0|0|||||||||\n",
      "|列车停运|24000000T922|T9|BXP|CXW|BXP|CXW|24:00|24:00|99:59|IS_TIME_NOT_BUY||20200328||P4|01|14|0|1|||||||||||||||||0|0|null||||||||\n",
      "T%2BjNv%2FhFF2UZyfMP4%2BkbXRhLZmSscXFMj%2BjEplgA30sYG3u9UFagx%2F8thWDeZxYvHoQXaRLfcEoh%0AsHyrUj7V%2FQ5Gt6zBJHciqMLNROrpzKo4plLxNI%2FYNSuBddsr6PwTvsTh%2BTkv666Cg7EySu3CriN8%0Ai%2BLZoNYj7J6EnrYeT8LI8%2FhopheN3rYNXgknAD54kZOUdyZtFHTaxzd7fVZWO7Rh%2FYD3UFFjObD8%0AJ7aAumjRpAYxN5PgUlGvytTkFVhf40oAwOoq0bfiuAw5b5V%2ByIeZ4n64TDAZoZIkT3lG9Aaf%2F1xL%0ATxn2wiXjO%2B4%3D|预订|24000000Z30L|Z3|BXP|CUW|BXP|CUW|17:48|11:56|18:08|Y|6OW0SYxPj3Y%2BAEvJ2fMF7cEaF3JLnwFkN%2Bav56jF3iisUj%2FXpXbmR2f%2Bf6c%3D|20200328|3|P3|01|07|0|0||||无|||无||无|有|||||40301010|4311|1|1|||||||||\n",
      "|列车停运|2400000Z950A|Z95|BXP|CXW|BXP|CXW|24:00|24:00|99:59|IS_TIME_NOT_BUY||20200328||P4|01|11|0|1|||||||||||||||||0|0|null||||||||\n",
      "|列车停运|240000K8190W|K819|BXP|CXW|BXP|CXW|24:00|24:00|99:59|IS_TIME_NOT_BUY||20200328||PB|01|20|0|1|||||||||||||||||0|0|null||||||||\n"
     ]
    }
   ],
   "source": [
    "t = input('enter a time:(yyyy-mm-dd):')\n",
    "start = input('enter a start city:')\n",
    "start = city[start]\n",
    "end = input('enter a end city:')\n",
    "end = city[end]\n",
    "url = 'https://kyfw.12306.cn/otn/leftTicket/query'\n",
    "params = {\n",
    "    'leftTicketDTO.train_date': t,\n",
    "    'leftTicketDTO.from_station': start,\n",
    "    'leftTicketDTO.to_station': end,\n",
    "    'purpose_codes': 'ADULT'\n",
    "}\n",
    "\n",
    "json_data_list = requests.get(url=url,headers=headers,params=params).json()['data']['result']\n",
    "for s in json_data_list:\n",
    "    print(s)"
   ]
  },
  {
   "cell_type": "code",
   "execution_count": null,
   "metadata": {},
   "outputs": [],
   "source": []
  }
 ],
 "metadata": {
  "kernelspec": {
   "display_name": "Python 3",
   "language": "python",
   "name": "python3"
  },
  "language_info": {
   "codemirror_mode": {
    "name": "ipython",
    "version": 3
   },
   "file_extension": ".py",
   "mimetype": "text/x-python",
   "name": "python",
   "nbconvert_exporter": "python",
   "pygments_lexer": "ipython3",
   "version": "3.6.5"
  }
 },
 "nbformat": 4,
 "nbformat_minor": 2
}
