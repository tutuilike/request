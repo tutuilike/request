{
 "cells": [
  {
   "cell_type": "markdown",
   "metadata": {},
   "source": [
    "-自学：参考博客- https://www.cnblogs.com/bobo-zhang/p/10068994.html\n",
    "- https的加密原理：证书秘钥加密。https://www.cnblogs.com/wupeiqi/articles/11647089.html\n",
    "    - 必须要知道什么是证书"
   ]
  },
  {
   "cell_type": "code",
   "execution_count": null,
   "metadata": {},
   "outputs": [],
   "source": []
  }
 ],
 "metadata": {
  "kernelspec": {
   "display_name": "Python 3",
   "language": "python",
   "name": "python3"
  },
  "language_info": {
   "codemirror_mode": {
    "name": "ipython",
    "version": 3
   },
   "file_extension": ".py",
   "mimetype": "text/x-python",
   "name": "python",
   "nbconvert_exporter": "python",
   "pygments_lexer": "ipython3",
   "version": "3.6.5"
  }
 },
 "nbformat": 4,
 "nbformat_minor": 2
}
